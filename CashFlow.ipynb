{
 "cells": [
  {
   "cell_type": "markdown",
   "metadata": {},
   "source": [
    "# CashFlow"
   ]
  },
  {
   "cell_type": "code",
   "execution_count": 1,
   "metadata": {},
   "outputs": [],
   "source": [
    "import pandas as pd\n",
    "import xlwings as xw\n",
    "from datetime import datetime\n",
    "from forex_python.converter import get_rate"
   ]
  },
  {
   "cell_type": "code",
   "execution_count": 2,
   "metadata": {},
   "outputs": [],
   "source": [
    "# set up reporting month and year\n",
    "month = 1\n",
    "year = 2022"
   ]
  },
  {
   "cell_type": "markdown",
   "metadata": {},
   "source": [
    "## ING"
   ]
  },
  {
   "cell_type": "code",
   "execution_count": 3,
   "metadata": {},
   "outputs": [],
   "source": [
    "# load ING statment\n",
    "dfING = pd.read_csv('E:\\\\Gielda\\\\Porfel\\\\01JAN22\\\\ING.csv', \n",
    "                    skiprows = 20, encoding='ISO-8859-2', sep = \";\")"
   ]
  },
  {
   "cell_type": "code",
   "execution_count": 4,
   "metadata": {},
   "outputs": [],
   "source": [
    "# select columns\n",
    "df_ING = dfING[['Data transakcji', 'Dane kontrahenta', 'Tytuł',\n",
    "       'Nr rachunku', 'Kwota transakcji (waluta rachunku)','Saldo po transakcji']]\n",
    "\n",
    "# rename columns\n",
    "df_ING = df_ING.rename(columns = {'Data transakcji':'Date','Dane kontrahenta':'Recipient', 'Tytuł':'Title',\n",
    "                                  'Nr rachunku':'Account', 'Kwota transakcji (waluta rachunku)':'Value',\n",
    "                                  'Saldo po transakcji': 'Saldo'}, inplace = False)"
   ]
  },
  {
   "cell_type": "code",
   "execution_count": 5,
   "metadata": {},
   "outputs": [],
   "source": [
    "# 'Value' to replace string and convert to float\n",
    "df_ING['Value'] = df_ING['Value'].str.replace(',','.').astype(float)\n",
    "df_ING['Saldo'] = df_ING['Saldo'].str.replace(',','.').astype(float)\n",
    "\n",
    "# remoce everything which is NaN\n",
    "df_ING.dropna(subset = ['Value'], inplace = True)\n",
    "\n",
    "# change 'Date' to datetime type\n",
    "df_ING['Date'] = pd.to_datetime(df_ING['Date'])\n",
    "\n",
    "# add column with source\n",
    "df_ING['Source'] = 'ING'"
   ]
  },
  {
   "cell_type": "markdown",
   "metadata": {},
   "source": [
    "## mBank"
   ]
  },
  {
   "cell_type": "code",
   "execution_count": 6,
   "metadata": {},
   "outputs": [],
   "source": [
    "# Load mBank statment\n",
    "dfmBank = pd.read_csv('E:\\\\Gielda\\\\Porfel\\\\01JAN22\\\\mBankAll.csv', \n",
    "                      skiprows = 32, encoding='ISO-8859-2', sep = \";\", header = None)"
   ]
  },
  {
   "cell_type": "code",
   "execution_count": 7,
   "metadata": {},
   "outputs": [],
   "source": [
    "# mBank\n",
    "# select columns\n",
    "df_mBank = dfmBank[[0,1,4,5]]\n",
    "df_mBank.columns = ['Date', 'Recipient', 'Value','Saldo']"
   ]
  },
  {
   "cell_type": "code",
   "execution_count": 8,
   "metadata": {
    "scrolled": true
   },
   "outputs": [
    {
     "name": "stderr",
     "output_type": "stream",
     "text": [
      "<ipython-input-8-3a6e2d1ab253>:2: SettingWithCopyWarning: \n",
      "A value is trying to be set on a copy of a slice from a DataFrame.\n",
      "Try using .loc[row_indexer,col_indexer] = value instead\n",
      "\n",
      "See the caveats in the documentation: https://pandas.pydata.org/pandas-docs/stable/user_guide/indexing.html#returning-a-view-versus-a-copy\n",
      "  df_mBank['Saldo'] = df_mBank['Saldo'].str[:-4].str.replace(',', '.').str.replace(' ', '')\n",
      "<ipython-input-8-3a6e2d1ab253>:5: SettingWithCopyWarning: \n",
      "A value is trying to be set on a copy of a slice from a DataFrame.\n",
      "Try using .loc[row_indexer,col_indexer] = value instead\n",
      "\n",
      "See the caveats in the documentation: https://pandas.pydata.org/pandas-docs/stable/user_guide/indexing.html#returning-a-view-versus-a-copy\n",
      "  df_mBank['Saldo'] = df_mBank['Saldo'].astype(float)\n",
      "<ipython-input-8-3a6e2d1ab253>:8: SettingWithCopyWarning: \n",
      "A value is trying to be set on a copy of a slice from a DataFrame.\n",
      "Try using .loc[row_indexer,col_indexer] = value instead\n",
      "\n",
      "See the caveats in the documentation: https://pandas.pydata.org/pandas-docs/stable/user_guide/indexing.html#returning-a-view-versus-a-copy\n",
      "  df_mBank['Date'] = pd.to_datetime(df_mBank['Date'])\n",
      "<ipython-input-8-3a6e2d1ab253>:11: SettingWithCopyWarning: \n",
      "A value is trying to be set on a copy of a slice from a DataFrame.\n",
      "Try using .loc[row_indexer,col_indexer] = value instead\n",
      "\n",
      "See the caveats in the documentation: https://pandas.pydata.org/pandas-docs/stable/user_guide/indexing.html#returning-a-view-versus-a-copy\n",
      "  df_mBank['Source'] = df_mBank.apply(lambda x: 'mBank_' + x['Value'][-3:], axis = 1)\n"
     ]
    }
   ],
   "source": [
    "# replace letters in 'Value' as below\n",
    "df_mBank['Saldo'] = df_mBank['Saldo'].str[:-4].str.replace(',', '.').str.replace(' ', '')\n",
    "\n",
    "# change the type to float\n",
    "df_mBank['Saldo'] = df_mBank['Saldo'].astype(float)\n",
    "\n",
    "#  change 'Date' to datetime\n",
    "df_mBank['Date'] = pd.to_datetime(df_mBank['Date'])\n",
    "\n",
    "# additional column with source name\n",
    "df_mBank['Source'] = df_mBank.apply(lambda x: 'mBank_' + x['Value'][-3:], axis = 1)"
   ]
  },
  {
   "cell_type": "code",
   "execution_count": 9,
   "metadata": {},
   "outputs": [
    {
     "name": "stderr",
     "output_type": "stream",
     "text": [
      "<ipython-input-9-d8448ea9f3be>:1: SettingWithCopyWarning: \n",
      "A value is trying to be set on a copy of a slice from a DataFrame.\n",
      "Try using .loc[row_indexer,col_indexer] = value instead\n",
      "\n",
      "See the caveats in the documentation: https://pandas.pydata.org/pandas-docs/stable/user_guide/indexing.html#returning-a-view-versus-a-copy\n",
      "  df_mBank['Value'] = df_mBank.apply(lambda x: get_rate(x['Value'][-3:], 'PLN', x['Date'])\n"
     ]
    }
   ],
   "source": [
    "df_mBank['Value'] = df_mBank.apply(lambda x: get_rate(x['Value'][-3:], 'PLN', x['Date'])\n",
    "                                    * float(x['Value'][:-3].replace(',', '.').replace(' ', '')), axis=1)"
   ]
  },
  {
   "cell_type": "markdown",
   "metadata": {},
   "source": [
    "## Santander"
   ]
  },
  {
   "cell_type": "code",
   "execution_count": 10,
   "metadata": {},
   "outputs": [],
   "source": [
    "# Load Santander Private\n",
    "df_Santander_P = pd.read_csv('E:\\\\Gielda\\\\Porfel\\\\01JAN22\\\\SantanderP.csv',\n",
    "                           skiprows = 1, header = None)\n",
    "\n",
    "# additional column with source name\n",
    "df_Santander_P['Source'] = \"Santander_P\""
   ]
  },
  {
   "cell_type": "code",
   "execution_count": 12,
   "metadata": {},
   "outputs": [],
   "source": [
    "# Load Santander Company\n",
    "df_Santander_C = pd.read_csv('E:\\\\Gielda\\\\Porfel\\\\01JAN22\\\\SantanderC1.csv',\n",
    "                           skiprows = 1, header = None, sep = \",\")\n",
    "\n",
    "# additional column with source name\n",
    "df_Santander_C['Source'] = \"Santander_C\""
   ]
  },
  {
   "cell_type": "code",
   "execution_count": 13,
   "metadata": {},
   "outputs": [],
   "source": [
    "# concatenate all Santander lists\n",
    "frames = [df_Santander_P, df_Santander_C]\n",
    "df_Santander = pd.concat(frames)"
   ]
  },
  {
   "cell_type": "code",
   "execution_count": 14,
   "metadata": {},
   "outputs": [],
   "source": [
    "# Santader Private\n",
    "# select columns\n",
    "df_Santander = df_Santander[[0, 2, 3, 4, 5, 6, 'Source']]\n",
    "\n",
    "# rename columns\n",
    "df_Santander = df_Santander.rename(columns = {0:'Date', 2:'Recipient', 3:'Title', 4:'Account', \n",
    "                                                5:'Value', 6:'Saldo'}, inplace = False)"
   ]
  },
  {
   "cell_type": "code",
   "execution_count": 15,
   "metadata": {},
   "outputs": [],
   "source": [
    "# 'Value' to replace string and convert to float\n",
    "df_Santander['Value'] = df_Santander['Value'].str.replace(',','.').astype(float)\n",
    "df_Santander['Saldo'] = df_Santander['Saldo'].str.replace(',','.').astype(float)\n",
    "\n",
    "# change 'Date' to datetime type\n",
    "df_Santander['Date'] = pd.to_datetime(df_Santander['Date'], format = \"%d-%m-%Y\")"
   ]
  },
  {
   "cell_type": "markdown",
   "metadata": {},
   "source": [
    "## Concatenate"
   ]
  },
  {
   "cell_type": "code",
   "execution_count": 16,
   "metadata": {},
   "outputs": [],
   "source": [
    "# concatenate all the dataframes into one table\n",
    "frames = [df_ING, df_mBank, df_Santander]\n",
    "result = pd.concat(frames)"
   ]
  },
  {
   "cell_type": "code",
   "execution_count": 17,
   "metadata": {},
   "outputs": [],
   "source": [
    "# filter by specific date\n",
    "result_Current = result.loc[(result['Date'].dt.month == month) & (result['Date'].dt.year == year)]\n",
    "result_Previous = result.loc[(result['Date'].dt.month == 12) & (result['Date'].dt.year == 2021)]"
   ]
  },
  {
   "cell_type": "code",
   "execution_count": 18,
   "metadata": {},
   "outputs": [],
   "source": [
    "result_Current = pd.DataFrame(result_Current.groupby(['Source']).first()['Saldo'])\n",
    "result_Previous = pd.DataFrame(result_Previous.groupby(['Source']).first()['Saldo'])"
   ]
  },
  {
   "cell_type": "code",
   "execution_count": null,
   "metadata": {},
   "outputs": [],
   "source": [
    "result_Current.to_excel('E:\\\\Gielda\\\\Porfel\\\\01JAN22\\\\Results_31JAN.xlsx')"
   ]
  },
  {
   "cell_type": "code",
   "execution_count": 34,
   "metadata": {},
   "outputs": [],
   "source": [
    "# export to excel\n",
    "wb = xw.Book('E:\\Gielda\\Porfel\\Porfel.xlsm')\n",
    "sheet = wb.sheets['pyScript_Banks']\n",
    "sheet.range('B2').value = sheet.range('C2:C8').options(ndim=2).value\n",
    "sheet.range('E1:I10').value = ''\n",
    "sheet.range('H1').value = result_Current\n",
    "sheet.range('E1').value = result_Previous"
   ]
  }
 ],
 "metadata": {
  "kernelspec": {
   "display_name": "Python 3",
   "language": "python",
   "name": "python3"
  },
  "language_info": {
   "codemirror_mode": {
    "name": "ipython",
    "version": 3
   },
   "file_extension": ".py",
   "mimetype": "text/x-python",
   "name": "python",
   "nbconvert_exporter": "python",
   "pygments_lexer": "ipython3",
   "version": "3.8.3"
  }
 },
 "nbformat": 4,
 "nbformat_minor": 4
}
