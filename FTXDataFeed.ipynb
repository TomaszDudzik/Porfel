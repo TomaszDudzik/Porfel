{
 "cells": [
  {
   "cell_type": "markdown",
   "metadata": {},
   "source": [
    "# Title: FTX data feed\n",
    "## Purpose: \n",
    "To download data from FTX Cryptocurrency Derivatives Exchange platform using API\n",
    "## Requirements: \n",
    "API account on FTX, Python, Excel\n",
    "## Steps: \n",
    "  S1. Connect to FTX \\\n",
    "  S2. Download the data \\\n",
    "  S3. Clean the data \\\n",
    "  S4. Transform the data \\\n",
    "  S5. Export the data to excel"
   ]
  },
  {
   "cell_type": "code",
   "execution_count": null,
   "metadata": {},
   "outputs": [],
   "source": [
    "# packages\n",
    "import ccxt\n",
    "import xlwings as xw\n",
    "import pandas as pd\n",
    "\n",
    "ftx = ccxt.ftx({'apiKey': 'your_api_key',\n",
    "                'secret': 'your_secret_key'})\n",
    "\n",
    "# fetch Balance data from FTX using ccxt\n",
    "df = ftx.fetchBalance()\n",
    "\n",
    "# change to dataframe\n",
    "df = pd.DataFrame(df['info']['result'])\n",
    "\n",
    "# change to float datatype\n",
    "df['usdValue'] = df.usdValue.astype(float)\n",
    "\n",
    "# filter only where value > 0\n",
    "df = df.loc[df['usdValue'] > 0]\n",
    "\n",
    "# change columns name\n",
    "df = df.rename(columns = {'coin': 'symbol', 'total': 'items', 'usdValue': 'value'}, inplace = False)\n",
    "\n",
    "# add column 'source' and 'currency'\n",
    "df[['source', 'currency']] = pd.DataFrame([['FTX', 'USD/PLN']], index=df.index)\n",
    "\n",
    "# select columns\n",
    "df_FTX_final = df[['source','symbol','value','currency']]\n",
    "\n",
    "# export to excel using xlwings package\n",
    "wb = xw.Book('your_path + excel_file_name')\n",
    "sheet = wb.sheets['sheet1']\n",
    "sheet.range('A1').value = df_FTX_final"
   ]
  }
 ],
 "metadata": {
  "kernelspec": {
   "display_name": "Python 3",
   "language": "python",
   "name": "python3"
  },
  "language_info": {
   "codemirror_mode": {
    "name": "ipython",
    "version": 3
   },
   "file_extension": ".py",
   "mimetype": "text/x-python",
   "name": "python",
   "nbconvert_exporter": "python",
   "pygments_lexer": "ipython3",
   "version": "3.8.3"
  }
 },
 "nbformat": 4,
 "nbformat_minor": 4
}
