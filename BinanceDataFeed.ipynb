{
 "cells": [
  {
   "cell_type": "markdown",
   "metadata": {},
   "source": [
    "# Title: Binance data feed\n",
    "## Purpose: \n",
    "To download data from Binance Cryptocurrency Derivatives Exchange platform using API\n",
    "## Requirements: \n",
    "API account on Binance, Python, Excel\n",
    "## Steps: \n",
    "  S1. Connect to Binance \\\n",
    "  S2. Download the data \\\n",
    "  S3. Clean the data \\\n",
    "  S4. Transform the data \\\n",
    "  S5. Export the data to excel"
   ]
  },
  {
   "cell_type": "code",
   "execution_count": null,
   "metadata": {},
   "outputs": [],
   "source": [
    "import pandas as pd\n",
    "import xlwings as xw\n",
    "import binance\n",
    "from binance.client import Client\n",
    "\n",
    "# Keys\n",
    "api_key = 'z'\n",
    "api_secret = 'PwOL04okyC8paI561da1z9XhsxqJjm1yRx629ov9ydDu22cVknV7BCHwHcfnBbRB'\n",
    "\n",
    "# Connect to Binance\n",
    "client = Client(api_key, api_secret)\n",
    "\n",
    "#binance.fetch_balance({'recvWindow': 10000000})\n",
    "\n",
    "## STEP 1\n",
    "# Get account status\n",
    "info = client.get_account()\n",
    "df = pd.DataFrame(info['balances'])\n",
    "\n",
    "# Trasnformation\n",
    "# Change type\n",
    "df[\"free\"] = df.free.astype(float)\n",
    "# Filter by items with values\n",
    "df1 = df.loc[df['free'] > 0]\n",
    "# Rename columns\n",
    "df1 = df1.rename(columns = {'asset': 'symbol', 'free': 'value'}, inplace = False)\n",
    "# Select columns\n",
    "df1 = df1[['symbol','value']]\n",
    "\n",
    "## STEP 2\n",
    "# Get current price\n",
    "df2 = pd.DataFrame(client.get_all_tickers())\n",
    "# Remove USDT from ticker name\n",
    "df2[\"symbol\"]= df2[\"symbol\"].str.split(\"USDT\", n = 1, expand = True)\n",
    "# Change type\n",
    "df2[\"price\"] = df2.price.astype(float)\n",
    "\n",
    "## STEP 3\n",
    "# Merge two datasets\n",
    "df3 = pd.merge(df1, df2, how = 'left')\n",
    "# fill NaN with 1 --> this is for USDT as can not generate by crypto_list\n",
    "df3['price'].fillna(1, inplace=True)\n",
    "\n",
    "# Get the USD value\n",
    "df3['value'] = df3['price']*df3['value']\n",
    "df3['source'] = 'Binance'\n",
    "df3['currency'] = 'USD/PLN'\n",
    "\n",
    "df_Bianance_final = df3[['source','symbol','value','currency']]\n",
    "\n",
    "#wb = xw.Book('E:\\Gielda\\Porfel\\Porfel.xlsm')\n",
    "#sheet = wb.sheets['pyScript']\n",
    "#sheet.range('A22').value = df_Bianance_final"
   ]
  }
 ],
 "metadata": {
  "kernelspec": {
   "display_name": "Python 3",
   "language": "python",
   "name": "python3"
  },
  "language_info": {
   "codemirror_mode": {
    "name": "ipython",
    "version": 3
   },
   "file_extension": ".py",
   "mimetype": "text/x-python",
   "name": "python",
   "nbconvert_exporter": "python",
   "pygments_lexer": "ipython3",
   "version": "3.8.3"
  }
 },
 "nbformat": 4,
 "nbformat_minor": 4
}
